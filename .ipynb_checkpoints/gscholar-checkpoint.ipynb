{
 "cells": [
  {
   "cell_type": "markdown",
   "metadata": {
    "id": "KVCO7ESXWQEf"
   },
   "source": [
    "# Independent citation counter\n",
    "\n",
    "In this notebook, you can calculate the number of independent citations for all of your papers.\n",
    "\n",
    "### What the code will do?\n",
    "For each entry in your Google Scholar profile, the code will output your independent citation count, total citation count and a link to access your independent citation counts.\n",
    "\n",
    "\n",
    "**Sample output:**\n",
    "\n",
    "> The impact of cosmic variance on simulating weak lensing surveys\n",
    ">\n",
    "> Citations: 9/15\n",
    ">\n",
    "> Link:  [http://scholar.google.com/scholar?cites=17631820148925503603&scipsc=1&q=-author:%27A%20Kannawadi%27+-author:%27R%20Mandelbaum%27+-author:%27C%20Lackner%27](http://scholar.google.com/scholar?cites=17631820148925503603&scipsc=1&q=-author:%27A%20Kannawadi%27+-author:%27R%20Mandelbaum%27+-author:%27C%20Lackner%27)\n",
    "\n",
    "The first line is the title of the paper, which has 9 independent citations and 15 total citations.\n",
    "The link takes you to the Google Scholar page with the independent citations.\n",
    "\n",
    "**Note:**\n",
    "Even if the program is unable to fetch independent citation counts, it will still output your total citations and provide a link to access your independent citations.\n",
    "\n",
    "\n",
    "### How to use?\n",
    "In the cell below, replace `qc6CJjYAAAAJ` with your Google Scholar profile ID.\n",
    "You may also want to specify a proxy type (more details below).\n",
    "Then, run all cells.\n",
    "\n",
    "If you are not familiary with running Jupyter notebooks, you can watch an end-to-end video tutorial [here](https://www.youtube.com/watch?v=V13Fx7GesEQ)\n",
    "\n",
    "### Troubleshooting\n",
    "If you see a `MaxTriesExceededException`, it means Google Scholar caught a whiff of your action.\n",
    "Try again later, or use a better proxy.\n",
    "\n",
    "<br>\n",
    "\n",
    "### Enter your Google Scholar profile ID\n",
    "*unless you are Albert Einstein.*\n",
    "\n",
    "For example, if your Google Scholar profile URL is [`https://scholar.google.com/citations?user=qc6CJjYAAAAJ&hl=en`](https://scholar.google.com/citations?user=qc6CJjYAAAAJ&hl=en), then your profile ID is `qc6CJjYAAAAJ`."
   ]
  },
  {
   "cell_type": "code",
   "execution_count": 1,
   "metadata": {
    "id": "H9F513kzWQEk"
   },
   "outputs": [],
   "source": [
    "# The only cell which you are expected to modify.\n",
    "scholar_id = 'OGshM_MAAAAJ'\n",
    "\n",
    "# `proxy_type` must be one of ScraperAPI, Luminati, FreeProxy, SingleProxy or NoProxy.\n",
    "# NoProxy will give only the links to independent, not the counts.\n",
    "proxy_type = 'NoProxy'  # Case insensitive"
   ]
  },
  {
   "cell_type": "markdown",
   "metadata": {
    "id": "QNKUamuKWQEm"
   },
   "source": [
    "#### More on `proxy_type`\n",
    "\n",
    "By default, the code provides only the links to page containing independent citations, and does not open the page to count them.\n",
    "Google Scholar actively blocks automated requests to its citation database.\n",
    "Continuous, repeated requests from a single IP address may lead to a ban.\n",
    "However, if you need the counts, you may be able to circumvent this by using a proxy.\n",
    "Below are a few options:\n",
    "\n",
    "- **FreeProxy**: Use continuously changing proxies for free.\n",
    "\n",
    "    This protects your IP address, but is not very effective at circumventing Google Scholar's anti-bot prevention. You might want to use other options if you are unable to reach Google Scholar.\n",
    "\n",
    "\n",
    "- **ScraperAPI** (recommended): [Create a free account](https://www.scraperapi.com/) without providing personal and payment information. Free account supports 5000 requests per month, more that sufficient to run this notebook for most researchers.\n",
    "\n",
    "- **Luminati** (untested): Similar to ScraperAPI, and is known to circumvent Google Scholar's anti-bot prevention better. No free account is available.\n",
    "\n",
    "- **SingleProxy**: Use a single proxy for all requests.\n",
    "\n",
    "- **NoProxy** (default): Using `NoProxy` will not fetch the counts by default. You can still try to fetch the counts (at your own risk) by setting `links_only` below to `False`. Use this sparingly if `FreeProxy` does not work and you don't want to create any accounts. You may also use this safely if you are already connected to a VPN.\n",
    "\n",
    "\n",
    "\n",
    "\n",
    "Read the [official scholarly documentation](https://scholarly.readthedocs.io/en/latest/quickstart.html#using-proxies) for more details."
   ]
  },
  {
   "cell_type": "code",
   "execution_count": 2,
   "metadata": {
    "id": "tl-kJ7ZvWQEn"
   },
   "outputs": [],
   "source": [
    "links_only = (proxy_type.lower() == 'noproxy')"
   ]
  },
  {
   "cell_type": "markdown",
   "metadata": {
    "id": "HZhZfd7YWQEn"
   },
   "source": [
    "### Install and import the required packages."
   ]
  },
  {
   "cell_type": "code",
   "execution_count": 3,
   "metadata": {
    "colab": {
     "base_uri": "https://localhost:8080/"
    },
    "id": "wQYAySobWQEn",
    "outputId": "2fc1b958-c797-4252-dbf7-3e600c55f445"
   },
   "outputs": [],
   "source": [
    "! pip install -q scholarly"
   ]
  },
  {
   "cell_type": "code",
   "execution_count": 12,
   "metadata": {
    "id": "HViiUp_uWQEo"
   },
   "outputs": [
    {
     "name": "stderr",
     "output_type": "stream",
     "text": [
      "UsageError: Line magic function `%%capture` not found.\n"
     ]
    }
   ],
   "source": [
    "# Suppress the cell's output since it prints a misleading traceback.\n",
    "%%capture\n",
    "try:\n",
    "    from scholarly import scholarly, ProxyGenerator, MaxTriesExceededException\n",
    "except IndexError:\n",
    "    \"\"\" Ignore the harmless IndexError occuring from a dependency\"\"\"\n",
    "    pass\n",
    "import time, random\n",
    "from getpass import getpass\n",
    "try:\n",
    "    from urllib import quote  # type: ignore ; Python 2\n",
    "except ImportError:\n",
    "    from urllib.parse import quote  # type: ignore ; Python 3"
   ]
  },
  {
   "cell_type": "code",
   "execution_count": 5,
   "metadata": {
    "id": "_TvvU5w4WQEo"
   },
   "outputs": [],
   "source": [
    "# Utility functions\n",
    "def set_proxy(proxy_type='NoProxy'):\n",
    "    \"\"\"Set a proxy for to scrape Google Scholar.\n",
    "\n",
    "    Only `NoProxy`, `FreeProxy` and `ScraperAPI` have been tested.\n",
    "\n",
    "    Parameters\n",
    "    ----------\n",
    "    proxy_type : str, optional\n",
    "        Type of proxy to use. Case insensitive. Options are:\n",
    "        `ScraperAPI`, `Luminati`, `FreeProxy`, `SingleProxy` and\n",
    "        `NoProxy` (default).\n",
    "    \"\"\"\n",
    "    if proxy_type.lower() == 'noproxy':\n",
    "        print(\"Using no proxies!\")\n",
    "        return\n",
    "\n",
    "    pg = ProxyGenerator()\n",
    "    if proxy_type.lower() == 'scraperapi':\n",
    "        payload = {'api_key': getpass(\"Enter your ScraperAPI key:\"), }\n",
    "        proxy_works = pg.ScraperAPI(payload['api_key'])\n",
    "        if proxy_works is True:\n",
    "            print(\"Using ScraperAPI!\")\n",
    "        elif proxy_works is False:\n",
    "            print(\"ScraperAPI is not working!\")\n",
    "        elif proxy_works is None:\n",
    "            print(\"Changes have not been reflected\")\n",
    "        else:\n",
    "            print(\"God knows what is going on\", proxy_works)\n",
    "    elif proxy_type.lower() == 'luminati':\n",
    "        pg.Luminati(getpass(\"Enter your Luminati username:\"), getpass(\"Enter your Luminati password:\"))\n",
    "        print(\"Using Luminati!\")\n",
    "    elif proxy_type.lower() == 'singleproxy':\n",
    "        proxy_address = getpass(\"Enter your proxy address:\")\n",
    "        pg.SingleProxy(proxy_address, proxy_address)\n",
    "        print(f\"Using SingleProxy: {proxy_address}\")\n",
    "    else:\n",
    "        pg.FreeProxies()\n",
    "        print(\"Using FreeProxy!\")\n",
    "\n",
    "    scholarly.use_proxy(pg)\n",
    "\n",
    "def standardize_names(name):\n",
    "    if not \" \" in name:\n",
    "        return name\n",
    "    try:\n",
    "        parts = name.split(' ')\n",
    "        firstname, lastname = parts[0], parts[-1]\n",
    "        initial = firstname[0]\n",
    "        return quote(f\"'{initial} {lastname}'\")\n",
    "    except:\n",
    "        # This usually happens for collaboration papers\n",
    "        print(f\"Cannot split '{name}' into initial and last names!\")\n",
    "        return quote(f\"{name}\")\n",
    "\n",
    "\n",
    "def fill_independent_citations(publication, links_only=True):\n",
    "    if not publication[\"source\"].name == \"AUTHOR_PUBLICATION_ENTRY\":\n",
    "        raise TypeError(\"Input source must be from a Google Scholar profile page\")\n",
    "\n",
    "    if not publication[\"filled\"]:  # TODO: Don't fill once the patch comes through\n",
    "        scholarly.fill(publication)\n",
    "\n",
    "    citedby_url = publication.get(\"citedby_url\", None)\n",
    "    if citedby_url is None:\n",
    "        # If there are no citations, then there is nothing to do\n",
    "        publication[\"num_independent_citations\"] = 0\n",
    "        return None\n",
    "\n",
    "    author_names = publication[\"bib\"][\"author\"].split(\" and \")\n",
    "    independent_query = \"+\".join([f\"-author:{standardize_names(name)}\" for name in author_names])\n",
    "    independent_url = citedby_url+\"&hl=en&scipsc=1&q=\"+independent_query\n",
    "    publication[\"independent_url\"] = independent_url\n",
    "\n",
    "    if links_only:\n",
    "        return None\n",
    "\n",
    "    try:\n",
    "        search_results = scholarly.search_pubs_custom_url(independent_url)\n",
    "        num_independent_citations = search_results.total_results if search_results.total_results else 0\n",
    "    except Exception as err:\n",
    "        num_independent_citations = -99\n",
    "\n",
    "    publication[\"num_independent_citations\"] = num_independent_citations"
   ]
  },
  {
   "cell_type": "code",
   "execution_count": 7,
   "metadata": {
    "colab": {
     "base_uri": "https://localhost:8080/"
    },
    "id": "Z9J3OekcWQEo",
    "outputId": "367cc636-9f58-4ded-ee09-3c3667e661f2"
   },
   "outputs": [
    {
     "name": "stdout",
     "output_type": "stream",
     "text": [
      "Using no proxies!\n"
     ]
    },
    {
     "ename": "NameError",
     "evalue": "name 'scholarly' is not defined",
     "output_type": "error",
     "traceback": [
      "\u001b[0;31m---------------------------------------------------------------------------\u001b[0m",
      "\u001b[0;31mNameError\u001b[0m                                 Traceback (most recent call last)",
      "Cell \u001b[0;32mIn[7], line 2\u001b[0m\n\u001b[1;32m      1\u001b[0m set_proxy(proxy_type)\n\u001b[0;32m----> 2\u001b[0m scholar \u001b[38;5;241m=\u001b[39m \u001b[43mscholarly\u001b[49m\u001b[38;5;241m.\u001b[39msearch_author_id(scholar_id)\n\u001b[1;32m      3\u001b[0m scholarly\u001b[38;5;241m.\u001b[39mfill(scholar, sections\u001b[38;5;241m=\u001b[39m[\u001b[38;5;124m'\u001b[39m\u001b[38;5;124mbasics\u001b[39m\u001b[38;5;124m'\u001b[39m, \u001b[38;5;124m'\u001b[39m\u001b[38;5;124mpublications\u001b[39m\u001b[38;5;124m'\u001b[39m])\n\u001b[1;32m      4\u001b[0m scholar_name \u001b[38;5;241m=\u001b[39m scholar[\u001b[38;5;124m\"\u001b[39m\u001b[38;5;124mname\u001b[39m\u001b[38;5;124m\"\u001b[39m]\n",
      "\u001b[0;31mNameError\u001b[0m: name 'scholarly' is not defined"
     ]
    }
   ],
   "source": [
    "set_proxy(proxy_type)\n",
    "scholar = scholarly.search_author_id(scholar_id)\n",
    "scholarly.fill(scholar, sections=['basics', 'publications'])\n",
    "scholar_name = scholar[\"name\"]\n",
    "print(f\"Hello {scholar_name} !\")"
   ]
  },
  {
   "cell_type": "code",
   "execution_count": 7,
   "metadata": {
    "colab": {
     "base_uri": "https://localhost:8080/"
    },
    "id": "oK_AcnTxWQEp",
    "outputId": "9e6e1d9d-0522-4fa5-d5df-719c8053fafc"
   },
   "outputs": [
    {
     "name": "stdout",
     "output_type": "stream",
     "text": [
      "Fetching the independent citation counts has been turned off for your own good because you are not using a proxy. You can turn it back on at your own risk by explicitly setting `links_only` to `False`.\n",
      "\n",
      " ------\n",
      "\n",
      "Learning an Accurate State Transition Dynamics Model by Fitting Both a Function and its Derivative\n",
      "Citations: NA/2\n",
      "Link:  http://scholar.google.com/scholar?hl=en&cites=482199619400368122&hl=en&scipsc=1&q=-author:%27Y%20Kim%27+-author:%27H%20Lee%27+-author:%27J%20Ryu%27\n",
      "\n",
      " ------\n",
      "\n",
      "Autonomous Underwater Vehicle Control for Fishnet Inspection in Turbid Water Environments\n",
      "Citations: NA/1\n",
      "Link:  http://scholar.google.com/scholar?hl=en&cites=12752354020341964232&hl=en&scipsc=1&q=-author:%27H%20Lee%27+-author:%27D%20Jeong%27+-author:%27H%20Yu%27+-author:%27J%20Ryu%27\n",
      "\n",
      " ------\n",
      "\n",
      "가상환경 내에 동특성을 부여한 안정적인 햅틱 마스터 슬레이브 시스템 구현 방법\n",
      "Citations: 0/0\n",
      "\n",
      " ------\n",
      "\n",
      "구조물 건전성 진단에서 데이터 부족 문제 극복을 위한 심층 생성 모델의 활용\n",
      "Citations: 0/0\n",
      "\n",
      " ------\n",
      "\n",
      "심층 학습을 이용한 양식장 그물 찢김 판단\n",
      "Citations: 0/0\n",
      "\n",
      " --- End of list ---\n"
     ]
    }
   ],
   "source": [
    "# Loop over publications\n",
    "if links_only:\n",
    "    print(\"Fetching the independent citation counts has been turned off for your own good\"\n",
    "          \" because you are not using a proxy.\"\n",
    "          \" You can turn it back on at your own risk by explicitly setting `links_only` to `False`.\"\n",
    "          )\n",
    "else:\n",
    "    print(\"You are fetching the counts in addition to the links. The code will run slow intentionally.\")\n",
    "\n",
    "independent_citation_counts = []\n",
    "for paper in scholar[\"publications\"]:\n",
    "    if not links_only:\n",
    "        # Sleep for some random time to mimic human behavior\n",
    "        time.sleep(random.uniform(2, 5))\n",
    "\n",
    "    try:\n",
    "        if paper.get(\"num_independent_citations\", -1) < 0:\n",
    "            fill_independent_citations(paper, links_only=links_only)\n",
    "            independent_citation_counts.append(paper.get(\"num_independent_citations\", 0))\n",
    "    except MaxTriesExceededException as err:\n",
    "        print(\"Google Scholar is aggressively blocking us! Quitting for now.\")\n",
    "        print(err)\n",
    "    finally:\n",
    "        print(\"\\n ------\\n\")\n",
    "        print(paper[\"bib\"][\"title\"])\n",
    "        print(f\"Citations: {paper.get('num_independent_citations', 'NA')}/{paper.get('num_citations')}\")\n",
    "        independent_url = paper.get(\"independent_url\", None)\n",
    "        if independent_url:\n",
    "            print(\"Link: \", \"http://scholar.google.com\"+independent_url)\n",
    "\n",
    "print(\"\\n --- End of list ---\")\n",
    "\n",
    "if not links_only:\n",
    "    print(\"Total number of independent citations = \", sum(independent_citation_counts))\n"
   ]
  }
 ],
 "metadata": {
  "colab": {
   "provenance": []
  },
  "interpreter": {
   "hash": "a4e0abcddf1cacd10bcad43358dc25a202947afed0583669c24dee9c22954977"
  },
  "kernelspec": {
   "display_name": "Python 3 (ipykernel)",
   "language": "python",
   "name": "python3"
  },
  "language_info": {
   "codemirror_mode": {
    "name": "ipython",
    "version": 3
   },
   "file_extension": ".py",
   "mimetype": "text/x-python",
   "name": "python",
   "nbconvert_exporter": "python",
   "pygments_lexer": "ipython3",
   "version": "3.10.10"
  }
 },
 "nbformat": 4,
 "nbformat_minor": 1
}
